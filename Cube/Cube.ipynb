{
 "cells": [
  {
   "cell_type": "code",
   "execution_count": null,
   "metadata": {},
   "outputs": [],
   "source": [
    "# Create the code to implement a cube mathematically : each tile has one unique number et a colour : \n",
    "# {1,2...24} and {red, blue, green, yellow, orange, white}\n",
    "# the cube is represented by a a list of 24 tiles\n",
    "# each tile is represented by a tuple (number, colour)\n",
    "\n",
    "cube = []\n",
    "numbers = range(1, 25)\n",
    "colors = ['red', 'blue', 'green', 'yellow', 'orange', 'white']\n",
    "for number in numbers:\n",
    "    for color in colors:\n",
    "        cube.append((number, color))\n",
    "\n",
    "# next : shuffle the cube\n",
    "\n",
    "import random\n",
    "random.shuffle(cube)\n",
    "\n"
   ]
  }
 ],
 "metadata": {
  "language_info": {
   "name": "python"
  }
 },
 "nbformat": 4,
 "nbformat_minor": 2
}
